{
  "nbformat": 4,
  "nbformat_minor": 0,
  "metadata": {
    "colab": {
      "name": "AveragePredictedYear.ipynb",
      "provenance": []
    },
    "kernelspec": {
      "name": "python3",
      "display_name": "Python 3"
    }
  },
  "cells": [
    {
      "cell_type": "code",
      "metadata": {
        "id": "-NTFXpJYvRnb"
      },
      "source": [
        "from bs4 import BeautifulSoup\n",
        "import html5lib\n",
        "import re\n",
        "myFile=open('/content/PathAndDate.html','r', encoding='cp1252')\n",
        "soup=BeautifulSoup(myFile,\"html5lib\")\n",
        "#print(soup.prettify())\n",
        "\n",
        "tables = soup.find_all('table', {'id': re.compile('IndividualImages_split*')})\n",
        "#print(table)\n",
        "\n",
        "predictedYear = []\n",
        "fileNames = []\n",
        "for table in tables:\n",
        "  #print(table.index)\n",
        "  rows = table.findAll('tr')\n",
        "  for row in rows:\n",
        "    predictedColumn = row.findAll('td')[3].contents    \n",
        "    for line in predictedColumn:\n",
        "      if str(line)[0] != '<':\n",
        "        predictedYear.append(line) \n",
        "\n",
        "    fileColumn = row.findAll('td')[4].contents\n",
        "    for line in fileColumn:\n",
        "      #print(line)\n",
        "      if str(line)[0:2] != '<b':\n",
        "        splitLine = str(line).split('\"')\n",
        "        fileNames.append(splitLine[1])\n",
        "    #print(predicted_column)\n",
        "#print(type(predictedYear))\n",
        "#print(type(fileNames))\n",
        "\n",
        "dicWithCount = {}\n",
        "for x in range(len(predictedYear)):\n",
        "  if fileNames[x] in dicWithCount:\n",
        "    dicWithCount[fileNames[x]] = (dicWithCount[fileNames[x]][0] + float(predictedYear[x]), dicWithCount[fileNames[x]][1] + 1)\n",
        "  else:\n",
        "    dicWithCount[fileNames[x]] = (float(predictedYear[x]), 1)\n",
        "\n",
        "dicWithMean = {}\n",
        "f = open('AveragePredictedYear', 'w')\n",
        "for entry in dicWithCount:\n",
        "  dicWithMean[entry] = dicWithCount[entry][0] / dicWithCount[entry][1]\n",
        "  f.write(entry + ':\\t' + str(dicWithMean[entry]) + '\\n')\n",
        "f.close()"
      ],
      "execution_count": null,
      "outputs": []
    }
  ]
}